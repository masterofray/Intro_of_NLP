{
 "cells": [
  {
   "cell_type": "markdown",
   "id": "6b28c41c-1735-4037-9037-87754bc22ee5",
   "metadata": {},
   "source": [
    "# Google Colab Setups"
   ]
  },
  {
   "cell_type": "code",
   "execution_count": null,
   "id": "fce89f99-3783-4570-b7dc-0ba550e2fb64",
   "metadata": {},
   "outputs": [],
   "source": [
    "from google.colab import drive\n",
    "drive.mount('/content/stats')"
   ]
  },
  {
   "cell_type": "code",
   "execution_count": null,
   "id": "8164a8c0-3fee-427a-b130-8f07d1271fa5",
   "metadata": {},
   "outputs": [],
   "source": [
    "%cd stats/My Drive\n",
    "%mkdir STATS\n",
    "%cd STATS\n",
    "!git clone https://github.com/masterofray/Intro_of_NLP.git"
   ]
  },
  {
   "cell_type": "code",
   "execution_count": null,
   "id": "f9e02bd0-50c9-4ca4-85db-c235e8e37f71",
   "metadata": {},
   "outputs": [],
   "source": []
  }
 ],
 "metadata": {
  "kernelspec": {
   "display_name": "Python 3 (ipykernel)",
   "language": "python",
   "name": "python3"
  },
  "language_info": {
   "codemirror_mode": {
    "name": "ipython",
    "version": 3
   },
   "file_extension": ".py",
   "mimetype": "text/x-python",
   "name": "python",
   "nbconvert_exporter": "python",
   "pygments_lexer": "ipython3",
   "version": "3.9.7"
  }
 },
 "nbformat": 4,
 "nbformat_minor": 5
}
