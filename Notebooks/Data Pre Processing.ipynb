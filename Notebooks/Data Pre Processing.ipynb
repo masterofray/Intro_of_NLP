{
 "cells": [
  {
   "cell_type": "markdown",
   "metadata": {
    "tags": []
   },
   "source": [
    "# Introduction Natural Language Processing\n",
    "\n",
    "## Basics\n",
    "### 1. Filtering\n",
    "Filtering adalah tahap mengambil kata-kata penting dari hasil token dengan menggunakan algoritma stoplist (membuang kata kurang penting) atau wordlist (menyimpan kata penting).\n",
    "\n",
    "### 2. Stopword\n",
    "Stopword adalah kata umum yang biasanya muncul dalam jumlah besar dan dianggap tidak memiliki makna. Contoh stopword dalam bahasa Indonesia adalah “yang”, “dan”, “di”, “dari”, dll. Makna di balik penggunaan stopword yaitu dengan menghapus kata-kata yang memiliki informasi rendah dari sebuah teks, kita dapat fokus pada kata-kata penting sebagai gantinya.Filtering adalah tahap mengambil kata-kata penting dari hasil token dengan menggunakan algoritma stoplist (membuang kata kurang penting) atau wordlist (menyimpan kata penting).\n",
    "\n",
    "Stopword adalah kata umum yang biasanya muncul dalam jumlah besar dan dianggap tidak memiliki makna. Contoh stopword dalam bahasa Indonesia adalah “yang”, “dan”, “di”, “dari”, dll. Makna di balik penggunaan stopword yaitu dengan menghapus kata-kata yang memiliki informasi rendah dari sebuah teks, kita dapat fokus pada kata-kata penting sebagai gantinya.\n",
    "\n",
    "### 3. Stemming\n",
    "Stemming adalah proses menghilangkan infleksi kata ke bentuk dasarnya, namun bentuk dasar tersebut tidak berarti sama dengan akar kata (root word). Misalnya kata “mendengarkan”, “dengarkan”, “didengarkan” akan ditransformasi menjadi kata “dengar”. Idenya adalah ketika anda mencari dokumen “cara membuka lemari”, anda juga ingin melihat dokumen yang menyebutkan “cara terbuka lemari” atau “cara dibuka lemari” meskipun terdengar tidak enak. Tentunya anda ingin mencocokan semua variasi kata untuk memunculkan dokumen yang paling relevan. \n",
    "\n",
    "### 4. Tokenizing\n",
    "Tokenizing adalah proses pemisahan teks menjadi potongan-potongan yang disebut sebagai token untuk kemudian di analisa. Kata, angka, simbol, tanda baca dan entitas penting lainnya dapat dianggap sebagai token. Didalam NLP, token diartikan sebagai “kata” meskipun tokenize juga dapat dilakukan pada paragraf maupun kalimat.\n",
    "\n",
    "## Data PreProcessing\n",
    "Tidak ada aturan pasti yang membahas setiap tahapan pada text preprocessing. Tentu saja untuk memastikan hasil yang lebih baik dan konsisten semua tahapan harus dilakukan. Untuk memberi gambaran tentang apa yang minimal seharusnya dilakukan, saya telah menguraikan tahapan menjadi harus dilakukan, sebaiknya dilakukan, dan tergantung tugas. Perlu diingat, less is more, anda ingin menjaga pendekatan dengan seindah mungkin. Semakin banyak fitur atau tahapan yang anda tambahkan, semakin banyak pula lapisan yang anda harus kupas.\n",
    "* Harus dilakukan meliputi case folding (dapat tergantung tugas dalam beberapa kasus)\n",
    "* Sebaiknya dilakukan meliputi normalisasi sederhana — misalnya menstandarkan kata yang hampir sama\n",
    "* Tergantung tugas meliputi normalisasi tingkat lanjut — misalnya mengatasi kata yang tidak biasa, stopword removal dan stemming\n",
    "\n",
    "Jadi, untuk mengatasi tugas apapun minimal anda harus melakukan case folding. Selanjutnya dapat ditambahkan beberapa normalisasi dasar untuk mendapatkan hasil yang lebih konsisten dan secara bertahap menambahkan tahapan yang lainnya sesuai yang anda inginkan."
   ]
  },
  {
   "cell_type": "code",
   "execution_count": null,
   "metadata": {},
   "outputs": [],
   "source": [
    "!pip -q install nltk\n",
    "!pip -q install seaborn\n",
    "!pip -q install wordcloud\n",
    "!pip -q install fnmatch\n",
    "!pip -q install Sastrawi\n",
    "!pip -q install transformers\n",
    "!pip -q install xformers"
   ]
  },
  {
   "cell_type": "code",
   "execution_count": 1,
   "metadata": {},
   "outputs": [],
   "source": [
    "# importing the module\n",
    "\n",
    "import pandas as pd\n",
    "import numpy as np\n",
    "import nltk as nl\n",
    "import os\n",
    "import sys\n",
    "from wordcloud import WordCloud, STOPWORDS\n",
    "import matplotlib.pyplot as plt\n",
    "import seaborn as sns\n",
    "\n",
    "%matplotlib inline\n",
    "sns.set_style(\"whitegrid\")\n",
    "plt.style.use(\"fivethirtyeight\")"
   ]
  },
  {
   "cell_type": "code",
   "execution_count": 2,
   "metadata": {},
   "outputs": [
    {
     "name": "stdout",
     "output_type": "stream",
     "text": [
      "Path location  C:\\JACK\\Introduction of NLP\\Notebooks\n",
      "Inside the dirs :  ['CyberBullyingIG.csv', 'emoticons.txt', 'glove.twitter.27B.25d_Word2Vect.txt', 'PilkadaDKI-2017_Tweet.csv', 'Readme.md', 'test.csv', 'train.csv', 'wordlist.csv', '__init__.py']\n"
     ]
    }
   ],
   "source": [
    "print('Path location ', str(os.getcwd()))\n",
    "mypath = os.path.join(os.path.dirname(os.getcwd()), 'Dataset')\n",
    "print('Inside the dirs : ', os.listdir(mypath))"
   ]
  },
  {
   "cell_type": "code",
   "execution_count": 3,
   "metadata": {},
   "outputs": [
    {
     "name": "stdout",
     "output_type": "stream",
     "text": [
      "C:\\JACK\\Introduction of NLP\\Dataset\\PilkadaDKI-2017_Tweet.csv\n"
     ]
    }
   ],
   "source": [
    "# Get sample file please choose PilkadaDKI-2017_tweets.csv\n",
    "\n",
    "myfile = os.path.join(mypath, 'PilkadaDKI-2017_Tweet.csv')\n",
    "print(myfile)"
   ]
  },
  {
   "cell_type": "code",
   "execution_count": 4,
   "metadata": {},
   "outputs": [
    {
     "data": {
      "text/html": [
       "<div>\n",
       "<style scoped>\n",
       "    .dataframe tbody tr th:only-of-type {\n",
       "        vertical-align: middle;\n",
       "    }\n",
       "\n",
       "    .dataframe tbody tr th {\n",
       "        vertical-align: top;\n",
       "    }\n",
       "\n",
       "    .dataframe thead th {\n",
       "        text-align: right;\n",
       "    }\n",
       "</style>\n",
       "<table border=\"1\" class=\"dataframe\">\n",
       "  <thead>\n",
       "    <tr style=\"text-align: right;\">\n",
       "      <th></th>\n",
       "      <th>Id</th>\n",
       "      <th>Sentiment</th>\n",
       "      <th>Pasangan Calon</th>\n",
       "      <th>Text Tweet</th>\n",
       "    </tr>\n",
       "  </thead>\n",
       "  <tbody>\n",
       "    <tr>\n",
       "      <th>853</th>\n",
       "      <td>854</td>\n",
       "      <td>positive</td>\n",
       "      <td>Anies-Sandi</td>\n",
       "      <td>Bismillah semoga tahun ini ada gubernur baruu....</td>\n",
       "    </tr>\n",
       "    <tr>\n",
       "      <th>125</th>\n",
       "      <td>126</td>\n",
       "      <td>negative</td>\n",
       "      <td>Agus-Sylvi</td>\n",
       "      <td>ya pastilah #FPI kan tidak suka sama Ahok jadi...</td>\n",
       "    </tr>\n",
       "    <tr>\n",
       "      <th>37</th>\n",
       "      <td>38</td>\n",
       "      <td>negative</td>\n",
       "      <td>Agus-Sylvi</td>\n",
       "      <td>Sayang mayor #AHY termasuk yang dikader untuk ...</td>\n",
       "    </tr>\n",
       "    <tr>\n",
       "      <th>495</th>\n",
       "      <td>496</td>\n",
       "      <td>positive</td>\n",
       "      <td>Ahok-Djarot</td>\n",
       "      <td>1000 Lilin untuk pak Ahok #saveahok #ahokers #...</td>\n",
       "    </tr>\n",
       "    <tr>\n",
       "      <th>552</th>\n",
       "      <td>553</td>\n",
       "      <td>positive</td>\n",
       "      <td>Ahok-Djarot</td>\n",
       "      <td>#duajari #ahokdjarot #badja #salamduajari #dua...</td>\n",
       "    </tr>\n",
       "    <tr>\n",
       "      <th>590</th>\n",
       "      <td>591</td>\n",
       "      <td>positive</td>\n",
       "      <td>Ahok-Djarot</td>\n",
       "      <td>benar deh ,ikhlas kok #ahokdjarot tidak jadi g...</td>\n",
       "    </tr>\n",
       "    <tr>\n",
       "      <th>222</th>\n",
       "      <td>223</td>\n",
       "      <td>positive</td>\n",
       "      <td>Agus-Sylvi</td>\n",
       "      <td>Keren #AHY</td>\n",
       "    </tr>\n",
       "    <tr>\n",
       "      <th>218</th>\n",
       "      <td>219</td>\n",
       "      <td>positive</td>\n",
       "      <td>Agus-Sylvi</td>\n",
       "      <td>#Setia HinggAHY akhir #Harapan #MasaDepanBangs...</td>\n",
       "    </tr>\n",
       "    <tr>\n",
       "      <th>685</th>\n",
       "      <td>686</td>\n",
       "      <td>negative</td>\n",
       "      <td>Anies-Sandi</td>\n",
       "      <td>BIADAB !!! Kelakuan Kelompok Pendukung #AniesS...</td>\n",
       "    </tr>\n",
       "    <tr>\n",
       "      <th>491</th>\n",
       "      <td>492</td>\n",
       "      <td>positive</td>\n",
       "      <td>Ahok-Djarot</td>\n",
       "      <td>Ternyata mencari pemimpin yang dicintai itu ti...</td>\n",
       "    </tr>\n",
       "  </tbody>\n",
       "</table>\n",
       "</div>"
      ],
      "text/plain": [
       "      Id Sentiment Pasangan Calon  \\\n",
       "853  854  positive    Anies-Sandi   \n",
       "125  126  negative     Agus-Sylvi   \n",
       "37    38  negative     Agus-Sylvi   \n",
       "495  496  positive    Ahok-Djarot   \n",
       "552  553  positive    Ahok-Djarot   \n",
       "590  591  positive    Ahok-Djarot   \n",
       "222  223  positive     Agus-Sylvi   \n",
       "218  219  positive     Agus-Sylvi   \n",
       "685  686  negative    Anies-Sandi   \n",
       "491  492  positive    Ahok-Djarot   \n",
       "\n",
       "                                            Text Tweet  \n",
       "853  Bismillah semoga tahun ini ada gubernur baruu....  \n",
       "125  ya pastilah #FPI kan tidak suka sama Ahok jadi...  \n",
       "37   Sayang mayor #AHY termasuk yang dikader untuk ...  \n",
       "495  1000 Lilin untuk pak Ahok #saveahok #ahokers #...  \n",
       "552  #duajari #ahokdjarot #badja #salamduajari #dua...  \n",
       "590  benar deh ,ikhlas kok #ahokdjarot tidak jadi g...  \n",
       "222                                         Keren #AHY  \n",
       "218  #Setia HinggAHY akhir #Harapan #MasaDepanBangs...  \n",
       "685  BIADAB !!! Kelakuan Kelompok Pendukung #AniesS...  \n",
       "491  Ternyata mencari pemimpin yang dicintai itu ti...  "
      ]
     },
     "execution_count": 4,
     "metadata": {},
     "output_type": "execute_result"
    }
   ],
   "source": [
    "Data = pd.read_csv(myfile, encoding = 'utf-8')\n",
    "Data.dropna(how=\"any\", inplace=True, axis=1)\n",
    "Data.sample(10)"
   ]
  },
  {
   "cell_type": "code",
   "execution_count": 13,
   "metadata": {},
   "outputs": [
    {
     "name": "stdout",
     "output_type": "stream",
     "text": [
      "Random Comment 0 adalah : Sebentar lagi kita lupakan kegilaan pilkada DKI. Mari berlari bersama AHY. Kita mulai dari Kepri 23 April.\n",
      "\n",
      "Random Comment 1 adalah : Ya Allah, karuniai kami dengan gubernur dan wagub yang jujur, adil dan amanah, benar2 tulus mengabdi demi kemaslahatan DKI Jakarta. Amin.\n",
      "\n",
      "Random Comment 2 adalah : Awas serbuan warga wahabi dari bogor dan depok #JakartaberAswaja #SJPKB #pilgubDKI #JakartaPunyaSemua @kpudki https://news.detik.com.\n",
      "\n",
      "Random Comment 3 adalah : Sangat Buruknya Klakuan Pndukung #AniesSandi Stelah Ceramah Politik di Masjid Lanjut Takbir Pengusiran Djarot dri Masjid.\n",
      "\n",
      "Random Comment 4 adalah : Lho, Lagu Anies-Sandi Menjiplak Nyanyian Yahudi? http://m.jpnn.com/news/lho-lagu-anies-sandi-menjiplak-nyanyian-yahudi  #HashemMelech.\n",
      "\n",
      "Random Comment 5 adalah : kira kira kalau karangan bunga ahok-djarot nyasar ke rumah anis, orang orang bakal ngomong apa ya? #AhokDjarot #orangkokbisanyinyirbgt\t.\n",
      "\n",
      "Random Comment 6 adalah : Menata jakarta bukan menata Kata-kata! #debatpilkadaDKI #gw2.\n",
      "\n",
      "Random Comment 7 adalah : jangan susah2 pak pertanyaannya ..... Bisanya #OkeOce saja.\n",
      "\n",
      "Random Comment 8 adalah : #PilkadaJakarta #AniesSandi | Wah, apakah Persija bakal punya stadion yang rumputnya seperti di MU dan tempat....\n",
      "\n",
      "Random Comment 9 adalah : Tanggal 19 pilih dengan hati nurani ya #pilkadadki2017 #BaDjaUntukJakarta.\n",
      "\n"
     ]
    }
   ],
   "source": [
    "chk = Data['Text Tweet'].sample(10).tolist()\n",
    "for i in range(len(chk)) :\n",
    "    print(f'Random Comment {i} adalah : {chk[i]}.\\n')"
   ]
  },
  {
   "cell_type": "code",
   "execution_count": 14,
   "metadata": {
    "tags": []
   },
   "outputs": [
    {
     "data": {
      "text/html": [
       "<div>\n",
       "<style scoped>\n",
       "    .dataframe tbody tr th:only-of-type {\n",
       "        vertical-align: middle;\n",
       "    }\n",
       "\n",
       "    .dataframe tbody tr th {\n",
       "        vertical-align: top;\n",
       "    }\n",
       "\n",
       "    .dataframe thead th {\n",
       "        text-align: right;\n",
       "    }\n",
       "</style>\n",
       "<table border=\"1\" class=\"dataframe\">\n",
       "  <thead>\n",
       "    <tr style=\"text-align: right;\">\n",
       "      <th></th>\n",
       "      <th>Sentiment</th>\n",
       "      <th>Pasangan Calon</th>\n",
       "      <th>Text Tweet</th>\n",
       "    </tr>\n",
       "  </thead>\n",
       "  <tbody>\n",
       "    <tr>\n",
       "      <th>count</th>\n",
       "      <td>900</td>\n",
       "      <td>900</td>\n",
       "      <td>900</td>\n",
       "    </tr>\n",
       "    <tr>\n",
       "      <th>unique</th>\n",
       "      <td>2</td>\n",
       "      <td>3</td>\n",
       "      <td>898</td>\n",
       "    </tr>\n",
       "    <tr>\n",
       "      <th>top</th>\n",
       "      <td>negative</td>\n",
       "      <td>Agus-Sylvi</td>\n",
       "      <td>Setelah KO di beberapa Polling, kini mereka go...</td>\n",
       "    </tr>\n",
       "    <tr>\n",
       "      <th>freq</th>\n",
       "      <td>450</td>\n",
       "      <td>300</td>\n",
       "      <td>2</td>\n",
       "    </tr>\n",
       "  </tbody>\n",
       "</table>\n",
       "</div>"
      ],
      "text/plain": [
       "       Sentiment Pasangan Calon  \\\n",
       "count        900            900   \n",
       "unique         2              3   \n",
       "top     negative     Agus-Sylvi   \n",
       "freq         450            300   \n",
       "\n",
       "                                               Text Tweet  \n",
       "count                                                 900  \n",
       "unique                                                898  \n",
       "top     Setelah KO di beberapa Polling, kini mereka go...  \n",
       "freq                                                    2  "
      ]
     },
     "execution_count": 14,
     "metadata": {},
     "output_type": "execute_result"
    }
   ],
   "source": [
    "Data.describe(include = 'object')"
   ]
  },
  {
   "cell_type": "code",
   "execution_count": 15,
   "metadata": {
    "tags": []
   },
   "outputs": [
    {
     "data": {
      "text/html": [
       "<div>\n",
       "<style scoped>\n",
       "    .dataframe tbody tr th:only-of-type {\n",
       "        vertical-align: middle;\n",
       "    }\n",
       "\n",
       "    .dataframe tbody tr th {\n",
       "        vertical-align: top;\n",
       "    }\n",
       "\n",
       "    .dataframe thead tr th {\n",
       "        text-align: left;\n",
       "    }\n",
       "\n",
       "    .dataframe thead tr:last-of-type th {\n",
       "        text-align: right;\n",
       "    }\n",
       "</style>\n",
       "<table border=\"1\" class=\"dataframe\">\n",
       "  <thead>\n",
       "    <tr>\n",
       "      <th></th>\n",
       "      <th colspan=\"8\" halign=\"left\">Id</th>\n",
       "    </tr>\n",
       "    <tr>\n",
       "      <th></th>\n",
       "      <th>count</th>\n",
       "      <th>mean</th>\n",
       "      <th>std</th>\n",
       "      <th>min</th>\n",
       "      <th>25%</th>\n",
       "      <th>50%</th>\n",
       "      <th>75%</th>\n",
       "      <th>max</th>\n",
       "    </tr>\n",
       "    <tr>\n",
       "      <th>Sentiment</th>\n",
       "      <th></th>\n",
       "      <th></th>\n",
       "      <th></th>\n",
       "      <th></th>\n",
       "      <th></th>\n",
       "      <th></th>\n",
       "      <th></th>\n",
       "      <th></th>\n",
       "    </tr>\n",
       "  </thead>\n",
       "  <tbody>\n",
       "    <tr>\n",
       "      <th>negative</th>\n",
       "      <td>450.0</td>\n",
       "      <td>375.5</td>\n",
       "      <td>249.023538</td>\n",
       "      <td>1.0</td>\n",
       "      <td>113.25</td>\n",
       "      <td>375.5</td>\n",
       "      <td>637.75</td>\n",
       "      <td>750.0</td>\n",
       "    </tr>\n",
       "    <tr>\n",
       "      <th>positive</th>\n",
       "      <td>450.0</td>\n",
       "      <td>525.5</td>\n",
       "      <td>249.023538</td>\n",
       "      <td>151.0</td>\n",
       "      <td>263.25</td>\n",
       "      <td>525.5</td>\n",
       "      <td>787.75</td>\n",
       "      <td>900.0</td>\n",
       "    </tr>\n",
       "  </tbody>\n",
       "</table>\n",
       "</div>"
      ],
      "text/plain": [
       "              Id                                                        \n",
       "           count   mean         std    min     25%    50%     75%    max\n",
       "Sentiment                                                               \n",
       "negative   450.0  375.5  249.023538    1.0  113.25  375.5  637.75  750.0\n",
       "positive   450.0  525.5  249.023538  151.0  263.25  525.5  787.75  900.0"
      ]
     },
     "execution_count": 15,
     "metadata": {},
     "output_type": "execute_result"
    }
   ],
   "source": [
    "Data.groupby('Sentiment').describe()"
   ]
  },
  {
   "cell_type": "code",
   "execution_count": 16,
   "metadata": {},
   "outputs": [
    {
     "data": {
      "text/html": [
       "<div>\n",
       "<style scoped>\n",
       "    .dataframe tbody tr th:only-of-type {\n",
       "        vertical-align: middle;\n",
       "    }\n",
       "\n",
       "    .dataframe tbody tr th {\n",
       "        vertical-align: top;\n",
       "    }\n",
       "\n",
       "    .dataframe thead th {\n",
       "        text-align: right;\n",
       "    }\n",
       "</style>\n",
       "<table border=\"1\" class=\"dataframe\">\n",
       "  <thead>\n",
       "    <tr style=\"text-align: right;\">\n",
       "      <th></th>\n",
       "      <th>Id</th>\n",
       "      <th>LengthToken</th>\n",
       "    </tr>\n",
       "  </thead>\n",
       "  <tbody>\n",
       "    <tr>\n",
       "      <th>count</th>\n",
       "      <td>900.000000</td>\n",
       "      <td>900.000000</td>\n",
       "    </tr>\n",
       "    <tr>\n",
       "      <th>mean</th>\n",
       "      <td>450.500000</td>\n",
       "      <td>110.961111</td>\n",
       "    </tr>\n",
       "    <tr>\n",
       "      <th>std</th>\n",
       "      <td>259.951919</td>\n",
       "      <td>37.361024</td>\n",
       "    </tr>\n",
       "    <tr>\n",
       "      <th>min</th>\n",
       "      <td>1.000000</td>\n",
       "      <td>4.000000</td>\n",
       "    </tr>\n",
       "    <tr>\n",
       "      <th>25%</th>\n",
       "      <td>225.750000</td>\n",
       "      <td>88.000000</td>\n",
       "    </tr>\n",
       "    <tr>\n",
       "      <th>50%</th>\n",
       "      <td>450.500000</td>\n",
       "      <td>118.000000</td>\n",
       "    </tr>\n",
       "    <tr>\n",
       "      <th>75%</th>\n",
       "      <td>675.250000</td>\n",
       "      <td>136.000000</td>\n",
       "    </tr>\n",
       "    <tr>\n",
       "      <th>max</th>\n",
       "      <td>900.000000</td>\n",
       "      <td>348.000000</td>\n",
       "    </tr>\n",
       "  </tbody>\n",
       "</table>\n",
       "</div>"
      ],
      "text/plain": [
       "               Id  LengthToken\n",
       "count  900.000000   900.000000\n",
       "mean   450.500000   110.961111\n",
       "std    259.951919    37.361024\n",
       "min      1.000000     4.000000\n",
       "25%    225.750000    88.000000\n",
       "50%    450.500000   118.000000\n",
       "75%    675.250000   136.000000\n",
       "max    900.000000   348.000000"
      ]
     },
     "execution_count": 16,
     "metadata": {},
     "output_type": "execute_result"
    }
   ],
   "source": [
    "Data['LengthToken'] = Data['Text Tweet'].apply(len)\n",
    "Data.describe()"
   ]
  },
  {
   "cell_type": "code",
   "execution_count": 17,
   "metadata": {
    "tags": []
   },
   "outputs": [
    {
     "data": {
      "image/png": "[encoded data removed]",
      "text/plain": [
       "<Figure size 1440x864 with 1 Axes>"
      ]
     },
     "metadata": {},
     "output_type": "display_data"
    }
   ],
   "source": [
    "def wordcloud(dataframe):\n",
    "    stopwords = set(STOPWORDS)\n",
    "    plt.figure(figsize=(20,12))\n",
    "    wordcloud = WordCloud(background_color=\"white\",stopwords=stopwords).generate(\" \".join([i for i in dataframe.str.upper()]))\n",
    "    plt.imshow(wordcloud)\n",
    "    plt.axis(\"off\")\n",
    "    plt.title(\"Komposisi Words\")\n",
    "    #plt.figure().set_figheight(30)\n",
    "    plt.show()\n",
    "\n",
    "wordcloud(Data['Text Tweet'])"
   ]
  },
  {
   "cell_type": "code",
   "execution_count": 18,
   "metadata": {},
   "outputs": [
    {
     "data": {
      "image/png": "[encoded data removed]",
      "text/plain": [
       "<Figure size 864x576 with 1 Axes>"
      ]
     },
     "metadata": {},
     "output_type": "display_data"
    }
   ],
   "source": [
    "plt.figure(figsize=(12, 8))\n",
    "\n",
    "Data[Data.Sentiment =='positive'].LengthToken.plot(kind='hist', color='red', \n",
    "                                       label='Positive Comment', alpha=0.4)\n",
    "Data[Data.Sentiment =='negative'].LengthToken.plot(bins=35, kind='hist', color='blue', \n",
    "                                       label='Negative Comment', alpha=0.6)\n",
    "plt.legend()\n",
    "plt.xlabel(\"Comment Length\")\n",
    "plt.show()"
   ]
  },
  {
   "cell_type": "code",
   "execution_count": null,
   "metadata": {},
   "outputs": [],
   "source": []
  },
  {
   "cell_type": "markdown",
   "metadata": {},
   "source": [
    "## Helper Function"
   ]
  },
  {
   "cell_type": "code",
   "execution_count": 19,
   "metadata": {},
   "outputs": [],
   "source": [
    "from logging import getLogger\n",
    "from fnmatch import fnmatch\n",
    "from typing import Optional\n",
    "import os\n",
    "logger = getLogger('[DataPreProcs]')\n",
    "\n",
    "\n",
    "def SearchFiles(DirPath : Optional[str] = None, \n",
    "                keyword : Optional[str] = '*.',\n",
    "               ) :\n",
    "    '''\n",
    "    DirPath = string of path\n",
    "    keyword = string that contain special char * or **\n",
    "    for example :\n",
    "        keyword = 'Data**.csv'\n",
    "    '''\n",
    "    FilePaths                   = list()\n",
    "    try :\n",
    "        if (DirPath == '') or (DirPath == None) or (len(DirPath) == 0) :\n",
    "            DirPath             = LocDir\n",
    "        elif not os.path.isdir(DirPath) :\n",
    "            logger.warning('[SearchFiles Warning] This is not a Directory !!!')\n",
    "        if not isinstance(keyword, str) :\n",
    "            logger.warning('[SearchFiles Warning] Keyword is not String type !!!')\n",
    "        for paths, _, files in os.walk(DirPath):\n",
    "            for file in files:\n",
    "                if fnmatch(file, keyword) or \\\n",
    "                fnmatch(str(file).lower(), keyword.lower()) :\n",
    "                    filepath    = os.path.join(paths, file)\n",
    "                    FilePaths.append(os.path.realpath(filepath))\n",
    "    except Exception as Arch :\n",
    "        Error                   = f'''\n",
    "    [SearchFiles ERROR] Failed to find the files.\n",
    "    [SearchFiles ERROR] Message : {Arch}.\n",
    "        '''\n",
    "        logger.error(Error)\n",
    "    finally :\n",
    "        if len(FilePaths) > 1 :\n",
    "            try :\n",
    "                from natsort import natsorted\n",
    "                FilePaths = natsorted(FilePaths)\n",
    "            except :\n",
    "                FilePaths.sort()\n",
    "        return FilePaths\n"
   ]
  },
  {
   "cell_type": "code",
   "execution_count": null,
   "metadata": {},
   "outputs": [],
   "source": []
  },
  {
   "cell_type": "markdown",
   "metadata": {},
   "source": [
    "## Simple Tokenizer\n",
    "\n",
    "Kita dapat menggunakan dictionary stopwords yang sudah kita siapkan."
   ]
  },
  {
   "cell_type": "code",
   "execution_count": 20,
   "metadata": {},
   "outputs": [
    {
     "name": "stdout",
     "output_type": "stream",
     "text": [
      "['dimakan', 'bambang']\n"
     ]
    }
   ],
   "source": [
    "from nltk.tokenize import word_tokenize\n",
    "from os.path import dirname\n",
    "from typing import List\n",
    "import re\n",
    "\n",
    "def CallStop(Dictpath : Optional[str] = None):\n",
    "    Hitme = list()\n",
    "    with open(Dictpath, 'r') as FileIndo :\n",
    "        for me in FileIndo :\n",
    "            stripme = me.strip()\n",
    "            listme = stripme.split()\n",
    "            Hitme.append(listme[0])\n",
    "    return Hitme\n",
    "\n",
    "def IndoStopWords(Text : Optional[str] = None,\n",
    "                  OnlyToken : Optional[bool] = False,\n",
    "                  Dictlist : Optional[List] = list(),\n",
    "                 ) :\n",
    "    Tokens = list()\n",
    "    try :\n",
    "        assert isinstance(Text, str), 'Text is not string.'\n",
    "        Text = Text.lower()\n",
    "        Text = re.sub('[^a-zA-Z\\s]', '', Text) #Remove number\n",
    "        Text = re.sub(r'[^\\w\\s]', '', Text) #Remove Punctuation\n",
    "        Text = str(Text).replace('  ', ' ')\n",
    "        Tokens = word_tokenize(Text)\n",
    "        if not OnlyToken :\n",
    "            assert bool(len(Dictlist)), 'ListDict is empty'\n",
    "            Tokens = [Wd for Wd in Tokens if not Wd in Dictlist]\n",
    "    except Exception as Arc:\n",
    "        logger.error(f'Error as : {Arc}')\n",
    "    finally :\n",
    "        return Tokens\n",
    "\n",
    "# Run the Function\n",
    "Test = 'Apa yang dimakan oleh bambang76 apakah 59 mengapa?'\n",
    "StopWDpath = SearchFiles(dirname(os.getcwd()), '*stopword*')\n",
    "#print(StopWDpath[0])\n",
    "StopLs = CallStop(StopWDpath[0])\n",
    "FinalTest = IndoStopWords(Text = Test, \n",
    "                      OnlyToken = False,\n",
    "                      Dictlist = StopLs,\n",
    "                     )\n",
    "print(FinalTest)"
   ]
  },
  {
   "cell_type": "markdown",
   "metadata": {},
   "source": [
    "## Tokenizer using Sastrawi"
   ]
  },
  {
   "cell_type": "code",
   "execution_count": 21,
   "metadata": {},
   "outputs": [
    {
     "name": "stdout",
     "output_type": "stream",
     "text": [
      "Stopwords :   Mengapa RUMIT ya? Saya BINGUNG.\n",
      "Stemming :  mengapa semua begitu rumit ya saya sendiri bingung\n",
      "Tokenizing :  {'Mengapa': 1, 'semuanya': 1, 'begitu': 1, 'RUMIT': 1, 'ya?': 1, 'Saya': 1, 'sendiri': 1, 'BINGUNG.': 1}\n",
      "Preprocessing :  mengapa rumit ya saya bingung\n"
     ]
    }
   ],
   "source": [
    "from Sastrawi.Stemmer.StemmerFactory import StemmerFactory\n",
    "from Sastrawi.StopWordRemover.StopWordRemoverFactory import StopWordRemoverFactory\n",
    "import math\n",
    "\n",
    "'''\n",
    "Preprocessing\n",
    "1. Remove stopword \n",
    "2. Stemming\n",
    "'''\n",
    "\n",
    "# remove most common word\n",
    "def Stopword_removal(sentence):\n",
    "    stopword_factory = StopWordRemoverFactory()\n",
    "    stopwords = stopword_factory.get_stop_words()\n",
    "    words = sentence.split()\n",
    "    output = \"\"\n",
    "    for word in words:\n",
    "        if word not in stopwords:\n",
    "            output = output +\" \"+word\n",
    "\n",
    "    return output\n",
    "\n",
    "# stemming process\n",
    "def Stemming(sentence):\n",
    "    factory = StemmerFactory()\n",
    "    stemmer = factory.create_stemmer()\n",
    "    output  = stemmer.stem(sentence)\n",
    "    return output\n",
    "\n",
    "def Tokenizing(sentence) :\n",
    "    words = sentence.split()\n",
    "    tokens = {}\n",
    "    for word in words:\n",
    "        try:\n",
    "            tokens[word] = tokens[word]  + 1\n",
    "        except KeyError:\n",
    "            tokens[word] = 1\n",
    "\n",
    "    return tokens\n",
    "\n",
    "# preprocessing , remove stopword and stemming process\n",
    "def Preprocessing(sentence):\n",
    "    sentence = Stopword_removal(sentence)\n",
    "    output  = Stemming(sentence)\n",
    "    return output\n",
    "\n",
    "if __name__ == '__main__' :\n",
    "    Kalimat = 'Mengapa semuanya begitu RUMIT ya? Saya sendiri BINGUNG.'\n",
    "\n",
    "    print('Stopwords : ', Stopword_removal(Kalimat))\n",
    "    print('Stemming : ', Stemming(Kalimat))\n",
    "    print('Tokenizing : ', Tokenizing(Kalimat))\n",
    "    print('Preprocessing : ', Preprocessing(Kalimat))"
   ]
  },
  {
   "cell_type": "markdown",
   "metadata": {},
   "source": [
    "#### **Catatan**\n",
    "Korpus adalah kumpulan teks otentik yang diatur ke dalam kumpulan data. Otentik di sini berarti teks tertulis yang diucapkan oleh penduduk asli bahasa atau dialek tersebut. Korpus dapat terdiri dari apa saja mulai dari surat kabar, novel, resep, siaran radio hingga acara televisi, film, dan tweet. Dalam pemrosesan bahasa alami, korpus berisi data teks dan ucapan yang dapat digunakan untuk melatih AI dan sistem pembelajaran mesin. Jika pengguna memiliki masalah atau tujuan tertentu yang ingin mereka atasi, mereka memerlukan kumpulan data yang mendukung, atau setidaknya merupakan representasi dari, apa yang ingin mereka capai dengan pembelajaran mesin dan NLP."
   ]
  },
  {
   "cell_type": "code",
   "execution_count": 24,
   "metadata": {},
   "outputs": [
    {
     "name": "stdout",
     "output_type": "stream",
     "text": [
      "2.043 - Anwar Ibrahim Akan Bebas pada 15 Mei 2018?\n",
      "\n",
      "1.408 - Eksklusif : Wan Azizah: Mahathir dan Anwar Ibrahim Bahas Kabinet\n",
      "\n",
      "0.233 - Banyak yang Meragukannya Karena Usia, Ini Kata Mahathir Mohamad\n",
      "\n",
      "0.233 - Najib Razak Dicekal Usai Kalah di Pemilu Malaysia, Mahathir: Kami Ingin Mengembalikan Aturan Hukum\n",
      "\n",
      "0.233 - Prabowo Subianto: Malu saya dengan Mahathir Mohamad\n",
      "\n"
     ]
    }
   ],
   "source": [
    "## Calculation of Recommendation\n",
    "\n",
    "# count term frequency\n",
    "def Tf(sentence,word):\n",
    "    tokens =  Tokenizing(sentence)\n",
    "    for key, value in tokens.items():\n",
    "        tokens[key] = math.log(1 + value)\n",
    "    try:\n",
    "        return tokens[word]\n",
    "    except KeyError:\n",
    "        return 0\n",
    "\n",
    "def Idf(number_document,frequency):  \n",
    "    if frequency == 0 :\n",
    "        return 0\n",
    "    invers = float(1 + number_document)/float( 1 + frequency)\n",
    "    output =  math.log(invers)\n",
    "    return output\n",
    "\n",
    "# number of documents containing terms in the corpus\n",
    "def Frequency(documents,term):\n",
    "    frequency = 0\n",
    "    for key, document in documents.items():\n",
    "        document = Preprocessing(document)\n",
    "        terms = document.split()\n",
    "        if term in terms:\n",
    "            frequency = frequency + 1\n",
    "    return frequency\n",
    "    \n",
    "def TfIdf(article,documents):\n",
    "    sentence =  Preprocessing(article)\n",
    "    n_document =  len(documents)\n",
    "    scores = {}\n",
    "    for document_id, document_data in documents.items():\n",
    "        document_data = Preprocessing(document_data)\n",
    "        document_term = sentence.split()\n",
    "        for term in document_term:\n",
    "            frequency_term = Tf(document_data,term)\n",
    "            frequency  = Frequency(documents,term)\n",
    "            tf_idf = frequency_term * Idf(n_document,frequency)\n",
    "            try:\n",
    "                scores[document_id] = scores[document_id] + tf_idf\n",
    "            except KeyError:\n",
    "                if tf_idf > 0:\n",
    "                    scores[document_id] =  tf_idf\n",
    "               \n",
    "    scores = sorted(scores.items(), key=lambda x: x[1],reverse=True)\n",
    "    return scores\n",
    "\n",
    "documents  = {}  \n",
    "documents[1] = \"Banyak yang Meragukannya Karena Usia, Ini Kata Mahathir Mohamad\" \n",
    "documents[2] = \"Eksklusif : Wan Azizah: Mahathir dan Anwar Ibrahim Bahas Kabinet\"\n",
    "documents[3] = \"Najib Razak Dicekal Usai Kalah di Pemilu Malaysia, Mahathir: Kami Ingin Mengembalikan Aturan Hukum\"\n",
    "documents[4] = \"Anwar Ibrahim Akan Bebas pada 15 Mei 2018?\"\n",
    "documents[5] = \"Prabowo Subianto: Malu saya dengan Mahathir Mohamad\"\n",
    "documents[6] = \"Najib Razak kalah dalam pemilu Malaysia\"\n",
    "\n",
    "article = \"Mahathir akan Bebaskan Anwar Ibrahim, Setelah 18 Tahun Bermusuhan\"\n",
    "\n",
    "\n",
    "recomendation = TfIdf(article, documents)\n",
    "for key,val in recomendation:\n",
    "    print(str(round(val, 3)) + \" - \" + documents[key] + '\\n')\n"
   ]
  },
  {
   "cell_type": "code",
   "execution_count": null,
   "metadata": {},
   "outputs": [],
   "source": []
  },
  {
   "cell_type": "code",
   "execution_count": null,
   "metadata": {},
   "outputs": [],
   "source": []
  },
  {
   "cell_type": "code",
   "execution_count": null,
   "metadata": {},
   "outputs": [],
   "source": []
  },
  {
   "cell_type": "code",
   "execution_count": null,
   "metadata": {},
   "outputs": [],
   "source": []
  },
  {
   "cell_type": "code",
   "execution_count": null,
   "metadata": {},
   "outputs": [],
   "source": []
  },
  {
   "cell_type": "code",
   "execution_count": null,
   "metadata": {},
   "outputs": [],
   "source": []
  },
  {
   "cell_type": "code",
   "execution_count": 40,
   "metadata": {},
   "outputs": [
    {
     "name": "stderr",
     "output_type": "stream",
     "text": [
      "WARNING[XFORMERS]: xFormers can't load C++/CUDA extensions. xFormers was built for:\n",
      "    PyTorch 2.0.1+cu118 with CUDA 1108 (you have 2.0.1+cpu)\n",
      "    Python  3.9.13 (you have 3.9.7)\n",
      "  Please reinstall xformers (see https://github.com/facebookresearch/xformers#installing-xformers)\n",
      "  Memory-efficient attention, SwiGLU, sparse and more won't be available.\n",
      "  Set XFORMERS_MORE_DETAILS=1 for more details\n",
      "No model was supplied, defaulted to distilbert-base-uncased-finetuned-sst-2-english and revision af0f99b (https://huggingface.co/distilbert-base-uncased-finetuned-sst-2-english).\n",
      "Using a pipeline without specifying a model name and revision in production is not recommended.\n"
     ]
    },
    {
     "data": {
      "application/vnd.jupyter.widget-view+json": {
       "model_id": "8f0e035b8306426c90f6bc6089ab93b5",
       "version_major": 2,
       "version_minor": 0
      },
      "text/plain": [
       "Downloading (…)lve/main/config.json:   0%|          | 0.00/629 [00:00<?, ?B/s]"
      ]
     },
     "metadata": {},
     "output_type": "display_data"
    },
    {
     "name": "stderr",
     "output_type": "stream",
     "text": [
      "C:\\Users\\alastn87\\Anaconda3\\lib\\site-packages\\huggingface_hub\\file_download.py:133: UserWarning: `huggingface_hub` cache-system uses symlinks by default to efficiently store duplicated files but your machine does not support them in C:\\Users\\alastn87\\.cache\\huggingface\\hub. Caching files will still work but in a degraded version that might require more space on your disk. This warning can be disabled by setting the `HF_HUB_DISABLE_SYMLINKS_WARNING` environment variable. For more details, see https://huggingface.co/docs/huggingface_hub/how-to-cache#limitations.\n",
      "To support symlinks on Windows, you either need to activate Developer Mode or to run Python as an administrator. In order to see activate developer mode, see this article: https://docs.microsoft.com/en-us/windows/apps/get-started/enable-your-device-for-development\n",
      "  warnings.warn(message)\n"
     ]
    },
    {
     "data": {
      "application/vnd.jupyter.widget-view+json": {
       "model_id": "de402ee2f2ed46d7bf2896c8336a98da",
       "version_major": 2,
       "version_minor": 0
      },
      "text/plain": [
       "Downloading model.safetensors:   0%|          | 0.00/268M [00:00<?, ?B/s]"
      ]
     },
     "metadata": {},
     "output_type": "display_data"
    },
    {
     "data": {
      "application/vnd.jupyter.widget-view+json": {
       "model_id": "86c56ed97b814354a2b09fdac4c0903c",
       "version_major": 2,
       "version_minor": 0
      },
      "text/plain": [
       "Downloading (…)okenizer_config.json:   0%|          | 0.00/48.0 [00:00<?, ?B/s]"
      ]
     },
     "metadata": {},
     "output_type": "display_data"
    },
    {
     "data": {
      "application/vnd.jupyter.widget-view+json": {
       "model_id": "cf78ab0f5f6e4ce18341b9bfac7fa3be",
       "version_major": 2,
       "version_minor": 0
      },
      "text/plain": [
       "Downloading (…)solve/main/vocab.txt:   0%|          | 0.00/232k [00:00<?, ?B/s]"
      ]
     },
     "metadata": {},
     "output_type": "display_data"
    },
    {
     "data": {
      "text/plain": [
       "[{'label': 'POSITIVE', 'score': 0.9996980428695679}]"
      ]
     },
     "execution_count": 40,
     "metadata": {},
     "output_type": "execute_result"
    }
   ],
   "source": [
    "from transformers import pipeline\n",
    "import xformers\n",
    "\n",
    "classifier = pipeline('sentiment-analysis')\n",
    "classifier('We are very happy to introduce pipeline to the transformers repository.')"
   ]
  },
  {
   "cell_type": "markdown",
   "metadata": {},
   "source": [
    "### Saved Model\n",
    "Model yang berhasil di download tersimpan di \n",
    "`C:\\Users\\<yourname>\\.cache\\huggingface\\hub\\models--distilbert-base-uncased-finetuned-sst-2-english`\n",
    "<br>\n",
    "Mari kita coba untuk model Indo. URL nya di `https://huggingface.co/mdhugol/indonesia-bert-sentiment-classification/tree/main`"
   ]
  },
  {
   "cell_type": "code",
   "execution_count": 25,
   "metadata": {},
   "outputs": [
    {
     "data": {
      "application/vnd.jupyter.widget-view+json": {
       "model_id": "75cd9eb44bed4d2f9ea057af749b491c",
       "version_major": 2,
       "version_minor": 0
      },
      "text/plain": [
       "Downloading (…)okenizer_config.json:   0%|          | 0.00/2.00 [00:00<?, ?B/s]"
      ]
     },
     "metadata": {},
     "output_type": "display_data"
    },
    {
     "name": "stderr",
     "output_type": "stream",
     "text": [
      "C:\\Users\\alastn87\\Anaconda3\\lib\\site-packages\\huggingface_hub\\file_download.py:133: UserWarning: `huggingface_hub` cache-system uses symlinks by default to efficiently store duplicated files but your machine does not support them in C:\\JACK\\Introduction of NLP\\Notebooks\\ModelIndo. Caching files will still work but in a degraded version that might require more space on your disk. This warning can be disabled by setting the `HF_HUB_DISABLE_SYMLINKS_WARNING` environment variable. For more details, see https://huggingface.co/docs/huggingface_hub/how-to-cache#limitations.\n",
      "To support symlinks on Windows, you either need to activate Developer Mode or to run Python as an administrator. In order to see activate developer mode, see this article: https://docs.microsoft.com/en-us/windows/apps/get-started/enable-your-device-for-development\n",
      "  warnings.warn(message)\n"
     ]
    },
    {
     "data": {
      "text/plain": [
       "'./ModelIndo\\\\models--mdhugol--indonesia-bert-sentiment-classification\\\\snapshots\\\\80ccb4c2817cf976534ac491020a9572e5dae54f\\\\tokenizer_config.json'"
      ]
     },
     "execution_count": 25,
     "metadata": {},
     "output_type": "execute_result"
    }
   ],
   "source": [
    "from huggingface_hub import hf_hub_download\n",
    "pretrained= \"mdhugol/indonesia-bert-sentiment-classification\"\n",
    "os.makedirs('./ModelIndo', exist_ok = True)\n",
    "hf_hub_download(repo_id=pretrained, filename=\"tokenizer_config.json\", cache_dir=\"./ModelIndo\")"
   ]
  },
  {
   "cell_type": "code",
   "execution_count": 26,
   "metadata": {},
   "outputs": [
    {
     "name": "stderr",
     "output_type": "stream",
     "text": [
      "WARNING[XFORMERS]: xFormers can't load C++/CUDA extensions. xFormers was built for:\n",
      "    PyTorch 2.0.1+cu118 with CUDA 1108 (you have 2.0.1+cpu)\n",
      "    Python  3.9.13 (you have 3.9.7)\n",
      "  Please reinstall xformers (see https://github.com/facebookresearch/xformers#installing-xformers)\n",
      "  Memory-efficient attention, SwiGLU, sparse and more won't be available.\n",
      "  Set XFORMERS_MORE_DETAILS=1 for more details\n"
     ]
    },
    {
     "name": "stdout",
     "output_type": "stream",
     "text": [
      "Text: Sangat bahagia hari ini bisa mengerti NLP | Label : positive (99.109%)\n",
      "Text: Dasar kampungan ngak paham NLP!! Kurang ajar!! | Label : negative (99.767%)\n"
     ]
    }
   ],
   "source": [
    "from transformers import pipeline\n",
    "from transformers import AutoTokenizer, AutoModelForSequenceClassification\n",
    "\n",
    "#pretrained= \"mdhugol/indonesia-bert-sentiment-classification\"\n",
    "pretrained = '.\\ModelIndo\\MdHugol'\n",
    "\n",
    "model = AutoModelForSequenceClassification.from_pretrained(pretrained)\n",
    "tokenizer = AutoTokenizer.from_pretrained(pretrained)\n",
    "\n",
    "sentiment_analysis = pipeline(\"sentiment-analysis\", model=model, tokenizer=tokenizer)\n",
    "\n",
    "label_index = {'LABEL_0': 'positive', 'LABEL_1': 'neutral', 'LABEL_2': 'negative'}\n",
    "\n",
    "pos_text = \"Sangat bahagia hari ini bisa mengerti NLP\"\n",
    "neg_text = \"Dasar kampungan ngak paham NLP!! Kurang ajar!!\"\n",
    "\n",
    "result = sentiment_analysis(pos_text)\n",
    "status = label_index[result[0]['label']]\n",
    "score = result[0]['score']\n",
    "print(f'Text: {pos_text} | Label : {status} ({score * 100:.3f}%)')\n",
    "\n",
    "result = sentiment_analysis(neg_text)\n",
    "status = label_index[result[0]['label']]\n",
    "score = result[0]['score']\n",
    "print(f'Text: {neg_text} | Label : {status} ({score * 100:.3f}%)')\n"
   ]
  },
  {
   "cell_type": "code",
   "execution_count": null,
   "metadata": {},
   "outputs": [],
   "source": []
  },
  {
   "cell_type": "markdown",
   "metadata": {},
   "source": [
    "## Penutup\n",
    "Dalam tulisan ini kita telah mengetahui langkah dasar dan praktis pada text preprocessing beserta library yang digunakan dalam python. Selanjutnya hasil dari text preprocessing dapat digunakan untuk analisa NLP yang lebih rumit, contohnya machine translation. Tidak semua kasus membutuhkan level preprocessing yang sama. Dalam beberapa kasus anda bisa menggunakan salah satu tahap dari preprocessing paling sederhana yaitu case folding. Namun semua tahap akan dibutuhkan apabila anda mempunyai dataset dengan level noise sangat tinggi."
   ]
  },
  {
   "cell_type": "code",
   "execution_count": null,
   "metadata": {},
   "outputs": [],
   "source": []
  },
  {
   "cell_type": "code",
   "execution_count": null,
   "metadata": {},
   "outputs": [],
   "source": []
  },
  {
   "cell_type": "code",
   "execution_count": null,
   "metadata": {},
   "outputs": [],
   "source": []
  },
  {
   "cell_type": "code",
   "execution_count": null,
   "metadata": {},
   "outputs": [],
   "source": []
  },
  {
   "cell_type": "code",
   "execution_count": null,
   "metadata": {},
   "outputs": [],
   "source": []
  }
 ],
 "metadata": {
  "kernelspec": {
   "display_name": "Python 3 (ipykernel)",
   "language": "python",
   "name": "python3"
  },
  "language_info": {
   "codemirror_mode": {
    "name": "ipython",
    "version": 3
   },
   "file_extension": ".py",
   "mimetype": "text/x-python",
   "name": "python",
   "nbconvert_exporter": "python",
   "pygments_lexer": "ipython3",
   "version": "3.9.7"
  }
 },
 "nbformat": 4,
 "nbformat_minor": 4
}
